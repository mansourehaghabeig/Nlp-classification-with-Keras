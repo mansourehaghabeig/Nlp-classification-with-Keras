{
 "cells": [
  {
   "cell_type": "markdown",
   "metadata": {},
   "source": [
    "## Data Scientist Case Study\n",
    "\n",
    "<p style='text-align: justify;'>\n",
    "In the MyHammer platform we have one challenge. Often consumers submit the service\n",
    "request in a wrong serviceId category, mostly they get tempted to choose easy options such\n",
    "as “Sonstiges” (Others).\n",
    "For example, an actual painting job gets submitted to “Others” serviceId category.\n",
    "We have discovered the following issues with the current setup:\n",
    "    \n",
    "* jobs are in a wrong category\n",
    "* tradesmen cannot find the proper job because of the above scenario.\n",
    "\n",
    "This has a direct impact in revenue because the tradesmen cannot find a relevant job while\n",
    "searching. \n",
    "The task is to build an efficient classifier which can classify the wrong serviceId to a correct one. \n",
    "The goal is to help consumers to pick the right category by providing a good suggestion of a\n",
    "correct serviceId category based on the service request details. </p>\n",
    "\n",
    "\n"
   ]
  },
  {
   "cell_type": "markdown",
   "metadata": {},
   "source": [
    "### Structure\n",
    "* **Import libraries and setup Dataframes**\n",
    "* **Prepare the Data (preprocessing)**\n",
    "* **Choose the model**\n",
    "* **Train the model**\n",
    "* **Make prediction**\n",
    "* **Summary of Results** \n"
   ]
  },
  {
   "cell_type": "markdown",
   "metadata": {},
   "source": [
    "### Import Libraries & Setup Data"
   ]
  },
  {
   "cell_type": "code",
   "execution_count": 1,
   "metadata": {},
   "outputs": [],
   "source": [
    "import pandas as pd\n",
    "import numpy as np\n",
    "from numpy import array\n",
    "from numpy import asarray\n",
    "from numpy import zeros\n",
    "import seaborn as sns\n",
    "import matplotlib.pyplot as plt\n",
    "\n",
    "%matplotlib inline\n",
    "plt.style.use('seaborn-whitegrid')\n",
    "from imblearn.under_sampling import TomekLinks\n",
    "import nltk as nltk\n",
    "from nltk.corpus import stopwords\n",
    "from sklearn.preprocessing import StandardScaler\n",
    "from sklearn.feature_extraction.text import TfidfVectorizer\n",
    "from sklearn.impute import SimpleImputer\n",
    "import sklearn.metrics as metrics\n",
    "from sklearn.metrics import mean_squared_error, mean_absolute_error, r2_score\n",
    "from keras.preprocessing.sequence import pad_sequences\n",
    "from keras.layers.core import  Dense\n",
    "from keras.layers import  LSTM\n",
    "from keras.models import Model\n",
    "from keras.layers.embeddings import Embedding\n",
    "from keras.preprocessing.text import Tokenizer\n",
    "from keras.layers import Input\n",
    "from keras.layers.merge import Concatenate\n",
    "from sklearn.model_selection import train_test_split\n"
   ]
  },
  {
   "cell_type": "code",
   "execution_count": 2,
   "metadata": {},
   "outputs": [
    {
     "data": {
      "text/html": [
       "<div>\n",
       "<style scoped>\n",
       "    .dataframe tbody tr th:only-of-type {\n",
       "        vertical-align: middle;\n",
       "    }\n",
       "\n",
       "    .dataframe tbody tr th {\n",
       "        vertical-align: top;\n",
       "    }\n",
       "\n",
       "    .dataframe thead th {\n",
       "        text-align: right;\n",
       "    }\n",
       "</style>\n",
       "<table border=\"1\" class=\"dataframe\">\n",
       "  <thead>\n",
       "    <tr style=\"text-align: right;\">\n",
       "      <th></th>\n",
       "      <th>id</th>\n",
       "      <th>title</th>\n",
       "      <th>description</th>\n",
       "      <th>createdAt</th>\n",
       "      <th>endedAt</th>\n",
       "      <th>serviceId</th>\n",
       "      <th>user_description</th>\n",
       "      <th>service_based_form</th>\n",
       "      <th>target_date</th>\n",
       "      <th>reissuedCopyOf</th>\n",
       "      <th>...</th>\n",
       "      <th>stateText</th>\n",
       "      <th>sbf_form_text</th>\n",
       "      <th>Unnamed: 14</th>\n",
       "      <th>Unnamed: 15</th>\n",
       "      <th>Unnamed: 16</th>\n",
       "      <th>Unnamed: 17</th>\n",
       "      <th>Unnamed: 18</th>\n",
       "      <th>Unnamed: 19</th>\n",
       "      <th>Unnamed: 20</th>\n",
       "      <th>Unnamed: 21</th>\n",
       "    </tr>\n",
       "  </thead>\n",
       "  <tbody>\n",
       "    <tr>\n",
       "      <th>0</th>\n",
       "      <td>10870620</td>\n",
       "      <td>Badsanierung 39291 Lostau</td>\n",
       "      <td>Teilaufgaben: Fliesen verlegen, Heizung instal...</td>\n",
       "      <td>2019-05-12 10:10:45</td>\n",
       "      <td>2019-07-05 20:41:41</td>\n",
       "      <td>405110.0</td>\n",
       "      <td>Badsanierung   Wanne Toilette Waschtisch verse...</td>\n",
       "      <td>1</td>\n",
       "      <td>In den n√§chsten 3 Monaten</td>\n",
       "      <td>0</td>\n",
       "      <td>...</td>\n",
       "      <td>active</td>\n",
       "      <td>Teilaufgaben: Fliesen verlegen, Heizung instal...</td>\n",
       "      <td>NaN</td>\n",
       "      <td>NaN</td>\n",
       "      <td>NaN</td>\n",
       "      <td>NaN</td>\n",
       "      <td>NaN</td>\n",
       "      <td>NaN</td>\n",
       "      <td>NaN</td>\n",
       "      <td>NaN</td>\n",
       "    </tr>\n",
       "    <tr>\n",
       "      <th>1</th>\n",
       "      <td>10877080</td>\n",
       "      <td>4 m¬≤ Privatfl√§che pflastern, Unterbau erstel...</td>\n",
       "      <td>Teilaufgaben: Privatfl√§che pflastern, Unterba...</td>\n",
       "      <td>2019-05-12 18:06:15</td>\n",
       "      <td>2019-07-02 21:47:02</td>\n",
       "      <td>104010.0</td>\n",
       "      <td>Durch einen neuen Durchbruch der Au√üenwand wu...</td>\n",
       "      <td>1</td>\n",
       "      <td>Zeitnah</td>\n",
       "      <td>0</td>\n",
       "      <td>...</td>\n",
       "      <td>active</td>\n",
       "      <td>Teilaufgaben: Privatfl√§che pflastern, Unterba...</td>\n",
       "      <td>NaN</td>\n",
       "      <td>NaN</td>\n",
       "      <td>NaN</td>\n",
       "      <td>NaN</td>\n",
       "      <td>NaN</td>\n",
       "      <td>NaN</td>\n",
       "      <td>NaN</td>\n",
       "      <td>NaN</td>\n",
       "    </tr>\n",
       "    <tr>\n",
       "      <th>2</th>\n",
       "      <td>10898310</td>\n",
       "      <td>Dusche nachr√ºsten, Heizk√∂rper tauschen, Wass...</td>\n",
       "      <td>- Dusche nachr√ºsten im Bad (EG) (inkl. Wasser...</td>\n",
       "      <td>2019-05-14 08:13:56</td>\n",
       "      <td>2019-07-07 10:01:03</td>\n",
       "      <td>405120.0</td>\n",
       "      <td>- Dusche nachr√ºsten im Bad (EG) (inkl. Wasser...</td>\n",
       "      <td>0</td>\n",
       "      <td>Zeitnah</td>\n",
       "      <td>0</td>\n",
       "      <td>...</td>\n",
       "      <td>active</td>\n",
       "      <td>NaN</td>\n",
       "      <td>NaN</td>\n",
       "      <td>NaN</td>\n",
       "      <td>NaN</td>\n",
       "      <td>NaN</td>\n",
       "      <td>NaN</td>\n",
       "      <td>NaN</td>\n",
       "      <td>NaN</td>\n",
       "      <td>NaN</td>\n",
       "    </tr>\n",
       "  </tbody>\n",
       "</table>\n",
       "<p>3 rows × 22 columns</p>\n",
       "</div>"
      ],
      "text/plain": [
       "         id                                              title  \\\n",
       "0  10870620                          Badsanierung 39291 Lostau   \n",
       "1  10877080  4 m¬≤ Privatfl√§che pflastern, Unterbau erstel...   \n",
       "2  10898310  Dusche nachr√ºsten, Heizk√∂rper tauschen, Wass...   \n",
       "\n",
       "                                         description            createdAt  \\\n",
       "0  Teilaufgaben: Fliesen verlegen, Heizung instal...  2019-05-12 10:10:45   \n",
       "1  Teilaufgaben: Privatfl√§che pflastern, Unterba...  2019-05-12 18:06:15   \n",
       "2  - Dusche nachr√ºsten im Bad (EG) (inkl. Wasser...  2019-05-14 08:13:56   \n",
       "\n",
       "               endedAt serviceId  \\\n",
       "0  2019-07-05 20:41:41  405110.0   \n",
       "1  2019-07-02 21:47:02  104010.0   \n",
       "2  2019-07-07 10:01:03  405120.0   \n",
       "\n",
       "                                    user_description service_based_form  \\\n",
       "0  Badsanierung   Wanne Toilette Waschtisch verse...                  1   \n",
       "1  Durch einen neuen Durchbruch der Au√üenwand wu...                  1   \n",
       "2  - Dusche nachr√ºsten im Bad (EG) (inkl. Wasser...                  0   \n",
       "\n",
       "                  target_date reissuedCopyOf  ... stateText  \\\n",
       "0  In den n√§chsten 3 Monaten              0  ...    active   \n",
       "1                     Zeitnah              0  ...    active   \n",
       "2                     Zeitnah              0  ...    active   \n",
       "\n",
       "                                       sbf_form_text Unnamed: 14 Unnamed: 15  \\\n",
       "0  Teilaufgaben: Fliesen verlegen, Heizung instal...         NaN         NaN   \n",
       "1  Teilaufgaben: Privatfl√§che pflastern, Unterba...         NaN         NaN   \n",
       "2                                                NaN         NaN         NaN   \n",
       "\n",
       "  Unnamed: 16 Unnamed: 17 Unnamed: 18 Unnamed: 19 Unnamed: 20 Unnamed: 21  \n",
       "0         NaN         NaN         NaN         NaN         NaN         NaN  \n",
       "1         NaN         NaN         NaN         NaN         NaN         NaN  \n",
       "2         NaN         NaN         NaN         NaN         NaN         NaN  \n",
       "\n",
       "[3 rows x 22 columns]"
      ]
     },
     "execution_count": 2,
     "metadata": {},
     "output_type": "execute_result"
    }
   ],
   "source": [
    "# Import data\n",
    "df = pd.read_excel(\"Data.xlsx\")\n",
    "\n",
    "\n",
    "# check the data\n",
    "df.head(3)\n",
    "#df_test.shape"
   ]
  },
  {
   "cell_type": "code",
   "execution_count": 3,
   "metadata": {},
   "outputs": [
    {
     "name": "stdout",
     "output_type": "stream",
     "text": [
      "<class 'pandas.core.frame.DataFrame'>\n",
      "RangeIndex: 25770 entries, 0 to 25769\n",
      "Data columns (total 22 columns):\n",
      " #   Column                   Non-Null Count  Dtype  \n",
      "---  ------                   --------------  -----  \n",
      " 0   id                       25770 non-null  int64  \n",
      " 1   title                    25768 non-null  object \n",
      " 2   description              25733 non-null  object \n",
      " 3   createdAt                25438 non-null  object \n",
      " 4   endedAt                  25438 non-null  object \n",
      " 5   serviceId                25438 non-null  object \n",
      " 6   user_description         530 non-null    object \n",
      " 7   service_based_form       25437 non-null  object \n",
      " 8   target_date              25438 non-null  object \n",
      " 9   reissuedCopyOf           25437 non-null  object \n",
      " 10  tradeClassificationType  25437 non-null  object \n",
      " 11  state                    25438 non-null  float64\n",
      " 12  stateText                25438 non-null  object \n",
      " 13  sbf_form_text            24990 non-null  object \n",
      " 14  Unnamed: 14              3 non-null      object \n",
      " 15  Unnamed: 15              2 non-null      object \n",
      " 16  Unnamed: 16              2 non-null      object \n",
      " 17  Unnamed: 17              2 non-null      object \n",
      " 18  Unnamed: 18              2 non-null      object \n",
      " 19  Unnamed: 19              2 non-null      object \n",
      " 20  Unnamed: 20              1 non-null      object \n",
      " 21  Unnamed: 21              1 non-null      object \n",
      "dtypes: float64(1), int64(1), object(20)\n",
      "memory usage: 4.3+ MB\n"
     ]
    }
   ],
   "source": [
    "df.info()"
   ]
  },
  {
   "cell_type": "markdown",
   "metadata": {},
   "source": [
    "### Prepare the Data (preprocessing)\n"
   ]
  },
  {
   "cell_type": "markdown",
   "metadata": {},
   "source": [
    "1. **Remove unneeded, irrelevant features**"
   ]
  },
  {
   "cell_type": "code",
   "execution_count": 4,
   "metadata": {},
   "outputs": [
    {
     "data": {
      "text/html": [
       "<div>\n",
       "<style scoped>\n",
       "    .dataframe tbody tr th:only-of-type {\n",
       "        vertical-align: middle;\n",
       "    }\n",
       "\n",
       "    .dataframe tbody tr th {\n",
       "        vertical-align: top;\n",
       "    }\n",
       "\n",
       "    .dataframe thead th {\n",
       "        text-align: right;\n",
       "    }\n",
       "</style>\n",
       "<table border=\"1\" class=\"dataframe\">\n",
       "  <thead>\n",
       "    <tr style=\"text-align: right;\">\n",
       "      <th></th>\n",
       "      <th>title</th>\n",
       "      <th>description</th>\n",
       "      <th>serviceId</th>\n",
       "      <th>user_description</th>\n",
       "      <th>service_based_form</th>\n",
       "      <th>target_date</th>\n",
       "      <th>reissuedCopyOf</th>\n",
       "      <th>tradeClassificationType</th>\n",
       "      <th>state</th>\n",
       "      <th>stateText</th>\n",
       "    </tr>\n",
       "  </thead>\n",
       "  <tbody>\n",
       "    <tr>\n",
       "      <th>0</th>\n",
       "      <td>Badsanierung 39291 Lostau</td>\n",
       "      <td>Teilaufgaben: Fliesen verlegen, Heizung instal...</td>\n",
       "      <td>405110.0</td>\n",
       "      <td>Badsanierung   Wanne Toilette Waschtisch verse...</td>\n",
       "      <td>1</td>\n",
       "      <td>In den n√§chsten 3 Monaten</td>\n",
       "      <td>0</td>\n",
       "      <td>1.0</td>\n",
       "      <td>0.0</td>\n",
       "      <td>active</td>\n",
       "    </tr>\n",
       "    <tr>\n",
       "      <th>1</th>\n",
       "      <td>4 m¬≤ Privatfl√§che pflastern, Unterbau erstel...</td>\n",
       "      <td>Teilaufgaben: Privatfl√§che pflastern, Unterba...</td>\n",
       "      <td>104010.0</td>\n",
       "      <td>Durch einen neuen Durchbruch der Au√üenwand wu...</td>\n",
       "      <td>1</td>\n",
       "      <td>Zeitnah</td>\n",
       "      <td>0</td>\n",
       "      <td>4.0</td>\n",
       "      <td>0.0</td>\n",
       "      <td>active</td>\n",
       "    </tr>\n",
       "    <tr>\n",
       "      <th>2</th>\n",
       "      <td>Dusche nachr√ºsten, Heizk√∂rper tauschen, Wass...</td>\n",
       "      <td>- Dusche nachr√ºsten im Bad (EG) (inkl. Wasser...</td>\n",
       "      <td>405120.0</td>\n",
       "      <td>- Dusche nachr√ºsten im Bad (EG) (inkl. Wasser...</td>\n",
       "      <td>0</td>\n",
       "      <td>Zeitnah</td>\n",
       "      <td>0</td>\n",
       "      <td>2.0</td>\n",
       "      <td>0.0</td>\n",
       "      <td>active</td>\n",
       "    </tr>\n",
       "  </tbody>\n",
       "</table>\n",
       "</div>"
      ],
      "text/plain": [
       "                                               title  \\\n",
       "0                          Badsanierung 39291 Lostau   \n",
       "1  4 m¬≤ Privatfl√§che pflastern, Unterbau erstel...   \n",
       "2  Dusche nachr√ºsten, Heizk√∂rper tauschen, Wass...   \n",
       "\n",
       "                                         description serviceId  \\\n",
       "0  Teilaufgaben: Fliesen verlegen, Heizung instal...  405110.0   \n",
       "1  Teilaufgaben: Privatfl√§che pflastern, Unterba...  104010.0   \n",
       "2  - Dusche nachr√ºsten im Bad (EG) (inkl. Wasser...  405120.0   \n",
       "\n",
       "                                    user_description service_based_form  \\\n",
       "0  Badsanierung   Wanne Toilette Waschtisch verse...                  1   \n",
       "1  Durch einen neuen Durchbruch der Au√üenwand wu...                  1   \n",
       "2  - Dusche nachr√ºsten im Bad (EG) (inkl. Wasser...                  0   \n",
       "\n",
       "                  target_date reissuedCopyOf tradeClassificationType  state  \\\n",
       "0  In den n√§chsten 3 Monaten              0                     1.0    0.0   \n",
       "1                     Zeitnah              0                     4.0    0.0   \n",
       "2                     Zeitnah              0                     2.0    0.0   \n",
       "\n",
       "  stateText  \n",
       "0    active  \n",
       "1    active  \n",
       "2    active  "
      ]
     },
     "execution_count": 4,
     "metadata": {},
     "output_type": "execute_result"
    }
   ],
   "source": [
    "df.drop(df.columns[[14,15,16,17,18,19,20,21]], axis=1, inplace=True)\n",
    "df.drop(['createdAt','endedAt','id','sbf_form_text'], axis =1, inplace= True)\n",
    "\n",
    "# check the data\n",
    "df.head(3)\n",
    "#df_test.shape"
   ]
  },
  {
   "cell_type": "code",
   "execution_count": 5,
   "metadata": {},
   "outputs": [
    {
     "name": "stdout",
     "output_type": "stream",
     "text": [
      "Rows & Columns:  (25770, 10) \n",
      "All columns if the df:  ['title', 'description', 'serviceId', 'user_description', 'service_based_form', 'target_date', 'reissuedCopyOf', 'tradeClassificationType', 'state', 'stateText']\n"
     ]
    }
   ],
   "source": [
    "# Check how our final data frame looks\n",
    "print(\"Rows & Columns: \", df.shape, \"\\nAll columns if the df: \", df.columns.tolist())"
   ]
  },
  {
   "cell_type": "markdown",
   "metadata": {},
   "source": [
    "2. **Looking deeply in our data to determine data type of each feature**"
   ]
  },
  {
   "cell_type": "code",
   "execution_count": 6,
   "metadata": {
    "scrolled": false
   },
   "outputs": [
    {
     "name": "stdout",
     "output_type": "stream",
     "text": [
      "Unique values for service_based_form:  [1 0 nan datetime.datetime(2020, 12, 13, 12, 58, 1)\n",
      " datetime.datetime(2020, 11, 29, 14, 51, 14)]\n",
      "Unique values for reissuedCopyOf:  [0 nan 10200185 10671805 8876504 10379245 11526527 13943333\n",
      " 'Wunschtermin: 27.11.2020' '105080.0']\n",
      "Unique values for tradeClassificationType:  ['1.0' '4.0' '2.0' nan 946667 0 'Innerhalb der n√§chsten 30 Tage']\n",
      "Unique values for target_date:  ['In den n√§chsten 3 Monaten' 'Zeitnah' nan 'In 3 bis 6 Monaten'\n",
      " 'Innerhalb der n√§chsten 30 Tage' 'In mehr als 6 Monaten'\n",
      " 'Wunschtermin: 11.06.2020' 'Wunschtermin: 28.06.2020'\n",
      " 'Wunschtermin: 21.09.2019' 'Wunschtermin: 19.12.2019'\n",
      " 'Wunschtermin: 15.11.2019' 'Wunschtermin: 29.10.2019'\n",
      " 'Wunschtermin: 11.10.2019' 'Wunschtermin: 25.01.2020'\n",
      " 'Wunschtermin: 06.12.2019' 'Wunschtermin: 06.01.2020'\n",
      " 'Wunschtermin: 13.04.2020' 'Wunschtermin: 24.05.2020'\n",
      " 'Wunschtermin: 21.03.2020' 'Wunschtermin: 12.11.2020'\n",
      " 'Wunschtermin: 12.12.2020' 'Wunschtermin: 07.12.2020'\n",
      " 'Wunschtermin: 18.01.2021' 'Wunschtermin: 02.12.2020'\n",
      " 'Wunschtermin: 23.11.2020' 'Wunschtermin: 08.12.2020'\n",
      " 'Wunschtermin: 22.01.2021' 'Wunschtermin: 13.02.2021'\n",
      " 'Wunschtermin: 30.11.2020' 'Wunschtermin: 27.11.2020'\n",
      " 'Wunschtermin: 22.11.2020' 'Wunschtermin: 15.02.2021'\n",
      " 'Wunschtermin: 20.11.2020' 'Wunschtermin: 25.11.2020'\n",
      " 'Wunschtermin: 04.01.2021' 'Wunschtermin: 04.12.2020'\n",
      " 'Wunschtermin: 20.01.2021' 'Wunschtermin: 03.05.2021'\n",
      " 'Wunschtermin: 29.01.2021' 'Wunschtermin: 13.01.2021'\n",
      " 'Wunschtermin: 15.03.2021' 'Wunschtermin: 28.12.2020'\n",
      " 'Wunschtermin: 26.11.2020' 'Wunschtermin: 03.12.2020'\n",
      " 'Wunschtermin: 23.12.2020' 'Wunschtermin: 21.11.2020'\n",
      " 'Wunschtermin: 29.05.2021' 'Wunschtermin: 14.12.2020'\n",
      " 'Wunschtermin: 06.02.2021' 'Wunschtermin: 24.11.2020'\n",
      " 'Wunschtermin: 01.07.2021' 'Wunschtermin: 05.01.2021'\n",
      " 'Wunschtermin: 12.07.2021' 'Wunschtermin: 01.02.2021'\n",
      " 'Wunschtermin: 10.12.2020' 'Wunschtermin: 18.12.2020'\n",
      " 'Wunschtermin: 15.12.2020' 'Wunschtermin: 07.01.2021'\n",
      " 'Wunschtermin: 30.06.2021' 'Wunschtermin: 04.10.2021'\n",
      " 'Wunschtermin: 11.01.2021' 1 'Wunschtermin: 17.05.2021'\n",
      " 'Wunschtermin: 16.12.2020' 'Wunschtermin: 01.04.2021'\n",
      " 'Wunschtermin: 19.12.2020' 'Wunschtermin: 22.12.2020'\n",
      " 'Wunschtermin: 28.01.2021' 'Wunschtermin: 21.06.2021'\n",
      " 'Wunschtermin: 27.01.2021' 'Wunschtermin: 31.01.2021'\n",
      " 'Wunschtermin: 01.06.2021' 'Wunschtermin: 15.01.2021'\n",
      " 'Wunschtermin: 09.12.2020' 'Wunschtermin: 21.01.2021'\n",
      " 'Wunschtermin: 05.12.2020' 'Wunschtermin: 12.01.2021'\n",
      " 'Wunschtermin: 24.12.2020' 'Wunschtermin: 31.03.2021'\n",
      " 'Wunschtermin: 17.12.2020' 'Wunschtermin: 28.11.2020'\n",
      " 'Wunschtermin: 14.01.2021' 'Wunschtermin: 21.12.2020'\n",
      " 'Wunschtermin: 02.01.2021' 'Wunschtermin: 01.01.2021'\n",
      " 'Wunschtermin: 08.01.2021' 'Wunschtermin: 31.05.2021'\n",
      " 'Wunschtermin: 12.02.2021' 'Wunschtermin: 01.03.2021'\n",
      " 'Wunschtermin: 31.07.2021' 'Wunschtermin: 01.12.2020'\n",
      " 'Wunschtermin: 25.01.2021' 'Wunschtermin: 30.12.2020'\n",
      " 'Wunschtermin: 08.02.2021' 'Wunschtermin: 19.01.2021'\n",
      " 'Wunschtermin: 26.02.2021' 'Wunschtermin: 02.02.2021'\n",
      " 'Wunschtermin: 05.06.2021' 'Wunschtermin: 31.12.2020'\n",
      " 'Wunschtermin: 10.01.2021' 'Wunschtermin: 02.07.2021'\n",
      " 'Wunschtermin: 30.01.2021' 'Wunschtermin: 19.07.2021'\n",
      " 'Wunschtermin: 16.01.2021' 'Wunschtermin: 11.12.2020'\n",
      " 'Wunschtermin: 23.01.2021' 'Wunschtermin: 08.03.2021'\n",
      " 'Wunschtermin: 06.04.2021' 'Wunschtermin: 05.03.2021'\n",
      " 'Wunschtermin: 09.01.2021' 'Wunschtermin: 29.11.2020'\n",
      " 'Wunschtermin: 27.02.2021' 'Wunschtermin: 29.12.2020'\n",
      " 'Wunschtermin: 23.07.2021' 'Wunschtermin: 29.03.2021'\n",
      " 'Wunschtermin: 13.12.2020' 'Wunschtermin: 01.05.2021'\n",
      " 'Wunschtermin: 23.02.2021' 'Wunschtermin: 06.01.2021'\n",
      " 'Wunschtermin: 04.02.2021' 'Wunschtermin: 22.02.2021'\n",
      " 'Wunschtermin: 19.02.2021' 'Wunschtermin: 20.02.2021'\n",
      " 'Wunschtermin: 22.03.2021' 'Wunschtermin: 28.08.2021'\n",
      " 'Wunschtermin: 14.02.2021' 'Wunschtermin: 06.12.2020'\n",
      " 'Wunschtermin: 16.02.2021' 'Wunschtermin: 03.01.2021'\n",
      " 'Wunschtermin: 05.02.2021' 'Wunschtermin: 11.06.2021'\n",
      " 'Wunschtermin: 02.08.2021' 'Wunschtermin: 18.02.2021'\n",
      " 'Wunschtermin: 15.04.2021' 'Wunschtermin: 09.08.2021'\n",
      " 'Wunschtermin: 01.08.2021' 'Wunschtermin: 25.02.2021'\n",
      " 'Wunschtermin: 10.02.2021' 'Wunschtermin: 15.07.2021'\n",
      " 'Wunschtermin: 13.03.2021' 'Wunschtermin: 01.09.2021'\n",
      " 'Wunschtermin: 04.03.2021' 'Wunschtermin: 05.04.2021'\n",
      " 'Wunschtermin: 30.04.2021' 'Wunschtermin: 02.09.2021'\n",
      " 'Wunschtermin: 01.12.2021' 'Wunschtermin: 26.01.2021' '405120.0'\n",
      " datetime.datetime(2020, 12, 13, 14, 51, 14) 'Wunschtermin: 17.02.2021'\n",
      " 'Wunschtermin: 11.02.2021' 'Wunschtermin: 26.04.2021'\n",
      " 'Wunschtermin: 10.06.2021' 'Wunschtermin: 03.03.2021'\n",
      " 'Wunschtermin: 10.03.2021' 'Wunschtermin: 25.06.2021'\n",
      " 'Wunschtermin: 20.12.2020' 'Wunschtermin: 27.12.2020'\n",
      " 'Wunschtermin: 24.02.2021' 'Wunschtermin: 28.02.2021'\n",
      " 'Wunschtermin: 06.03.2021' 'Wunschtermin: 17.01.2021'\n",
      " 'Wunschtermin: 20.03.2021' 'Wunschtermin: 03.02.2021']\n",
      "Unique values for state :  [0.00000000e+00            nan 4.00000000e+00 4.81700928e+08]\n",
      "Unique values for stateText :  ['active' nan 0 115776824 505833]\n",
      "Unique values for serviceId :  ['405110.0' '104010.0' '405120.0' '104040.0' '405140.0' '404040.0'\n",
      " '109000.0' nan '703030.0' '105080.0' '107010.0' '107070.0' '412120.0'\n",
      " '412030.0' '101020.0' '409000.0' '504000.0' '108020.0' '106040.0'\n",
      " '108130.0' '703010.0' '109010.0' '402070.0' '405020.0' '107050.0'\n",
      " '101120.0' '601000.0' '403040.0' '407100.0' '402030.0' '410050.0'\n",
      " '405050.0' '411020.0' '101030.0' '408020.0' '304010.0' '404020.0'\n",
      " '407040.0' '101110.0' '107090.0' '405090.0' '402020.0' '102010.0'\n",
      " '412090.0' '701000.0' '107080.0' '101060.0' '107020.0' '106020.0'\n",
      " '412100.0' '101010.0' '102080.0' '412010.0' '404050.0' '108030.0'\n",
      " '412020.0' '102030.0' '412080.0' '411100.0' '406020.0' '412040.0'\n",
      " '403010.0' '104030.0' '304080.0' '403060.0' '411080.0' '101070.0'\n",
      " '702020.0' '401000.0' '403100.0' '101140.0' '411040.0' '402120.0'\n",
      " '402050.0' '102050.0' '411060.0' '410030.0' '405010.0' '102060.0'\n",
      " '101080.0' '411010.0' '412110.0' '410010.0' '407010.0' '407020.0'\n",
      " '107060.0' '101050.0' '304020.0' '304030.0' '107030.0' '503000.0'\n",
      " '502000.0' '202000.0' '608000.0' '304050.0' '402110.0' '107100.0'\n",
      " '412130.0' '108120.0' '402060.0' '704000.0' '407090.0' '102070.0'\n",
      " '404010.0' '605000.0' '108070.0' '105040.0' '804010.0' '105020.0'\n",
      " '410040.0' '405100.0' '404080.0' '412060.0' '406030.0' '802010.0'\n",
      " '405070.0' '108010.0' '407070.0' '105030.0' '102020.0' '607000.0'\n",
      " '408030.0' '804020.0' '304060.0' '108080.0' '407050.0' '802030.0'\n",
      " '411090.0' '108050.0' '108110.0' '702010.0' '108150.0' '405130.0'\n",
      " '403030.0' '108140.0' '402040.0' '702030.0' '602000.0' '105010.0'\n",
      " '402100.0' '705000.0' '411050.0' '101040.0' '106030.0' '102040.0'\n",
      " '405060.0' '412050.0' '804030.0' '105060.0' '412070.0' '107120.0'\n",
      " '304040.0' '304090.0' '410020.0' '402090.0' '802020.0' '501000.0'\n",
      " '703040.0' '802040.0' '108100.0' '703020.0' '103040.0' '407030.0'\n",
      " '404060.0' '304100.0' '402010.0' '406040.0' '108040.0' '108060.0'\n",
      " '801000.0' '302000.0' '103020.0' '201000.0' '407060.0' '930020.0'\n",
      " '107160.0' '406010.0' '803000.0' '107110.0' '103010.0' '408010.0'\n",
      " '404030.0' '104020.0' '603000.0' '606000.0' '403080.0' '702040.0'\n",
      " '403050.0' '411070.0' '407080.0' '204000.0' '405080.0' '107040.0'\n",
      " '405030.0' '411030.0' '403020.0' '708010.0' '804040.0' '107170.0'\n",
      " '604000.0' '408040.0' '105050.0' '706030.0' '720010.0' '402080.0'\n",
      " '403070.0' '108090.0' '910060.0' '405040.0' '105070.0' '404070.0'\n",
      " '920040.0' '106010.0' '101130.0' '301010.0' '101100.0' '103030.0'\n",
      " datetime.datetime(2020, 12, 4, 14, 35, 58) '303000.0' '107140.0'\n",
      " '101090.0' '720050.0' '301020.0' '107130.0' '304070.0' '920010.0'\n",
      " '720040.0' '203000.0' '403090.0' '301030.0' '716090.0' '930010.0'\n",
      " '706050.0' '720030.0' '910010.0' '716070.0' '709030.0' '920020.0'\n",
      " '910030.0' '107180.0' '107150.0' '706060.0' '709020.0' '716060.0'\n",
      " 'Wandhalterung im WC (2 L√∂cher)  ' '700 m¬≤ = ca. 600 m¬≥ 4.' '710010.0'\n",
      " '910040.0' '720020.0' '910020.0']\n"
     ]
    }
   ],
   "source": [
    "print(\"Unique values for service_based_form: \", df.service_based_form.unique())\n",
    "print(\"Unique values for reissuedCopyOf: \", df.reissuedCopyOf.unique())\n",
    "print(\"Unique values for tradeClassificationType: \", df.tradeClassificationType.unique())\n",
    "print(\"Unique values for target_date: \", df.target_date.unique())\n",
    "print(\"Unique values for state : \", df.state.unique())\n",
    "print(\"Unique values for stateText : \", df.stateText.unique())\n",
    "print(\"Unique values for serviceId : \", df.serviceId.unique())"
   ]
  },
  {
   "cell_type": "markdown",
   "metadata": {},
   "source": [
    "#### We can consider the following feature as categorial ones, since some data pattern are repeating for them\n",
    "* **service_based_form**: include numerical and datatime data\n",
    "* **reissuedCopyOf**: include numerical and text data\n",
    "* **tradeClassificationType**: include numerical and text data\n",
    "* **tradeClassificationType**: include numerical and text data\n",
    "* **target_date**: include text data\n",
    "* **state**: include numerical  data\n",
    "* **stateText**: include numerical and text data\n",
    "* **serviceId**: include numerical and text data"
   ]
  },
  {
   "cell_type": "markdown",
   "metadata": {},
   "source": [
    "#### Converting categorial features to numerical one\n",
    "\n",
    "* service_based_form\n",
    "* reissuedCopyOf\n",
    "* tradeClassificationType\n",
    "* state\n",
    "* target_date\n",
    "* stateText\n",
    "* serviceId\n",
    "\n"
   ]
  },
  {
   "cell_type": "code",
   "execution_count": 7,
   "metadata": {},
   "outputs": [],
   "source": [
    "from sklearn import preprocessing\n",
    "df['serviceId'] = df['serviceId'].astype('str')\n",
    "le = preprocessing.LabelEncoder()\n",
    "df['serviceId'] = le.fit_transform(df.serviceId.values)\n",
    "\n",
    "\n",
    "df['service_based_form'] = df['service_based_form'].astype('str')\n",
    "le = preprocessing.LabelEncoder()\n",
    "df['service_based_form'] = le.fit_transform(df.service_based_form.values)\n",
    "\n",
    "df['reissuedCopyOf'] = df['reissuedCopyOf'].astype('str')\n",
    "le = preprocessing.LabelEncoder()\n",
    "df['reissuedCopyOf'] = le.fit_transform(df.reissuedCopyOf.values)\n",
    "\n",
    "df['state'] = df['state'].astype('str')\n",
    "le = preprocessing.LabelEncoder()\n",
    "df['state'] = le.fit_transform(df.state.values)\n",
    "\n",
    "df['tradeClassificationType'] = df['tradeClassificationType'].astype('str')\n",
    "le = preprocessing.LabelEncoder()\n",
    "df['tradeClassificationType'] = le.fit_transform(df.tradeClassificationType.values)\n",
    "\n",
    "df['target_date'] = df['target_date'].astype('str')\n",
    "le = preprocessing.LabelEncoder()\n",
    "df['target_date'] = le.fit_transform(df.target_date.values)\n",
    "\n",
    "\n",
    "df['stateText'] = df['stateText'].astype('str')\n",
    "le = preprocessing.LabelEncoder()\n",
    "df['stateText'] = le.fit_transform(df.stateText.values)\n"
   ]
  },
  {
   "cell_type": "code",
   "execution_count": 8,
   "metadata": {},
   "outputs": [
    {
     "data": {
      "text/html": [
       "<div>\n",
       "<style scoped>\n",
       "    .dataframe tbody tr th:only-of-type {\n",
       "        vertical-align: middle;\n",
       "    }\n",
       "\n",
       "    .dataframe tbody tr th {\n",
       "        vertical-align: top;\n",
       "    }\n",
       "\n",
       "    .dataframe thead th {\n",
       "        text-align: right;\n",
       "    }\n",
       "</style>\n",
       "<table border=\"1\" class=\"dataframe\">\n",
       "  <thead>\n",
       "    <tr style=\"text-align: right;\">\n",
       "      <th></th>\n",
       "      <th>title</th>\n",
       "      <th>description</th>\n",
       "      <th>serviceId</th>\n",
       "      <th>user_description</th>\n",
       "      <th>service_based_form</th>\n",
       "      <th>target_date</th>\n",
       "      <th>reissuedCopyOf</th>\n",
       "      <th>tradeClassificationType</th>\n",
       "      <th>state</th>\n",
       "      <th>stateText</th>\n",
       "    </tr>\n",
       "  </thead>\n",
       "  <tbody>\n",
       "    <tr>\n",
       "      <th>0</th>\n",
       "      <td>Badsanierung 39291 Lostau</td>\n",
       "      <td>Teilaufgaben: Fliesen verlegen, Heizung instal...</td>\n",
       "      <td>138</td>\n",
       "      <td>Badsanierung   Wanne Toilette Waschtisch verse...</td>\n",
       "      <td>1</td>\n",
       "      <td>4</td>\n",
       "      <td>0</td>\n",
       "      <td>1</td>\n",
       "      <td>0</td>\n",
       "      <td>3</td>\n",
       "    </tr>\n",
       "    <tr>\n",
       "      <th>1</th>\n",
       "      <td>4 m¬≤ Privatfl√§che pflastern, Unterbau erstel...</td>\n",
       "      <td>Teilaufgaben: Privatfl√§che pflastern, Unterba...</td>\n",
       "      <td>26</td>\n",
       "      <td>Durch einen neuen Durchbruch der Au√üenwand wu...</td>\n",
       "      <td>1</td>\n",
       "      <td>162</td>\n",
       "      <td>0</td>\n",
       "      <td>3</td>\n",
       "      <td>0</td>\n",
       "      <td>3</td>\n",
       "    </tr>\n",
       "    <tr>\n",
       "      <th>2</th>\n",
       "      <td>Dusche nachr√ºsten, Heizk√∂rper tauschen, Wass...</td>\n",
       "      <td>- Dusche nachr√ºsten im Bad (EG) (inkl. Wasser...</td>\n",
       "      <td>139</td>\n",
       "      <td>- Dusche nachr√ºsten im Bad (EG) (inkl. Wasser...</td>\n",
       "      <td>0</td>\n",
       "      <td>162</td>\n",
       "      <td>0</td>\n",
       "      <td>2</td>\n",
       "      <td>0</td>\n",
       "      <td>3</td>\n",
       "    </tr>\n",
       "  </tbody>\n",
       "</table>\n",
       "</div>"
      ],
      "text/plain": [
       "                                               title  \\\n",
       "0                          Badsanierung 39291 Lostau   \n",
       "1  4 m¬≤ Privatfl√§che pflastern, Unterbau erstel...   \n",
       "2  Dusche nachr√ºsten, Heizk√∂rper tauschen, Wass...   \n",
       "\n",
       "                                         description  serviceId  \\\n",
       "0  Teilaufgaben: Fliesen verlegen, Heizung instal...        138   \n",
       "1  Teilaufgaben: Privatfl√§che pflastern, Unterba...         26   \n",
       "2  - Dusche nachr√ºsten im Bad (EG) (inkl. Wasser...        139   \n",
       "\n",
       "                                    user_description  service_based_form  \\\n",
       "0  Badsanierung   Wanne Toilette Waschtisch verse...                   1   \n",
       "1  Durch einen neuen Durchbruch der Au√üenwand wu...                   1   \n",
       "2  - Dusche nachr√ºsten im Bad (EG) (inkl. Wasser...                   0   \n",
       "\n",
       "   target_date  reissuedCopyOf  tradeClassificationType  state  stateText  \n",
       "0            4               0                        1      0          3  \n",
       "1          162               0                        3      0          3  \n",
       "2          162               0                        2      0          3  "
      ]
     },
     "execution_count": 8,
     "metadata": {},
     "output_type": "execute_result"
    }
   ],
   "source": [
    "# check the data\n",
    "df.head(3)\n",
    "#df_test.shape\n"
   ]
  },
  {
   "cell_type": "markdown",
   "metadata": {},
   "source": [
    "3. **Checking missing values in dataset**\n"
   ]
  },
  {
   "cell_type": "code",
   "execution_count": 9,
   "metadata": {},
   "outputs": [
    {
     "data": {
      "text/html": [
       "<div>\n",
       "<style scoped>\n",
       "    .dataframe tbody tr th:only-of-type {\n",
       "        vertical-align: middle;\n",
       "    }\n",
       "\n",
       "    .dataframe tbody tr th {\n",
       "        vertical-align: top;\n",
       "    }\n",
       "\n",
       "    .dataframe thead th {\n",
       "        text-align: right;\n",
       "    }\n",
       "</style>\n",
       "<table border=\"1\" class=\"dataframe\">\n",
       "  <thead>\n",
       "    <tr style=\"text-align: right;\">\n",
       "      <th></th>\n",
       "      <th>title</th>\n",
       "      <th>description</th>\n",
       "      <th>serviceId</th>\n",
       "      <th>user_description</th>\n",
       "      <th>service_based_form</th>\n",
       "      <th>target_date</th>\n",
       "      <th>reissuedCopyOf</th>\n",
       "      <th>tradeClassificationType</th>\n",
       "      <th>state</th>\n",
       "      <th>stateText</th>\n",
       "    </tr>\n",
       "  </thead>\n",
       "  <tbody>\n",
       "    <tr>\n",
       "      <th>column Type</th>\n",
       "      <td>object</td>\n",
       "      <td>object</td>\n",
       "      <td>int64</td>\n",
       "      <td>object</td>\n",
       "      <td>int64</td>\n",
       "      <td>int64</td>\n",
       "      <td>int64</td>\n",
       "      <td>int64</td>\n",
       "      <td>int64</td>\n",
       "      <td>int64</td>\n",
       "    </tr>\n",
       "    <tr>\n",
       "      <th>null values (nb)</th>\n",
       "      <td>2</td>\n",
       "      <td>37</td>\n",
       "      <td>0</td>\n",
       "      <td>25240</td>\n",
       "      <td>0</td>\n",
       "      <td>0</td>\n",
       "      <td>0</td>\n",
       "      <td>0</td>\n",
       "      <td>0</td>\n",
       "      <td>0</td>\n",
       "    </tr>\n",
       "    <tr>\n",
       "      <th>null values (%)</th>\n",
       "      <td>0.00776096</td>\n",
       "      <td>0.143578</td>\n",
       "      <td>0</td>\n",
       "      <td>97.9433</td>\n",
       "      <td>0</td>\n",
       "      <td>0</td>\n",
       "      <td>0</td>\n",
       "      <td>0</td>\n",
       "      <td>0</td>\n",
       "      <td>0</td>\n",
       "    </tr>\n",
       "  </tbody>\n",
       "</table>\n",
       "</div>"
      ],
      "text/plain": [
       "                       title description serviceId user_description  \\\n",
       "column Type           object      object     int64           object   \n",
       "null values (nb)           2          37         0            25240   \n",
       "null values (%)   0.00776096    0.143578         0          97.9433   \n",
       "\n",
       "                 service_based_form target_date reissuedCopyOf  \\\n",
       "column Type                   int64       int64          int64   \n",
       "null values (nb)                  0           0              0   \n",
       "null values (%)                   0           0              0   \n",
       "\n",
       "                 tradeClassificationType  state stateText  \n",
       "column Type                        int64  int64     int64  \n",
       "null values (nb)                       0      0         0  \n",
       "null values (%)                        0      0         0  "
      ]
     },
     "execution_count": 9,
     "metadata": {},
     "output_type": "execute_result"
    }
   ],
   "source": [
    "# Check where we find NaN values\n",
    "\n",
    "tab_info = pd.DataFrame(df.dtypes).T.rename(index={0:'column Type'}) \n",
    "tab_info = tab_info.append(pd.DataFrame(df.isnull().sum()).T.rename(index={0:'null values (nb)'}))\n",
    "tab_info = tab_info.append(pd.DataFrame(df.isnull().sum()/df.shape[0]*100).T.\n",
    "                                       rename(index={0: 'null values (%)'}))\n",
    "tab_info"
   ]
  },
  {
   "cell_type": "code",
   "execution_count": 10,
   "metadata": {
    "scrolled": true
   },
   "outputs": [
    {
     "data": {
      "text/plain": [
       "title                          2\n",
       "description                   37\n",
       "serviceId                      0\n",
       "user_description           25240\n",
       "service_based_form             0\n",
       "target_date                    0\n",
       "reissuedCopyOf                 0\n",
       "tradeClassificationType        0\n",
       "state                          0\n",
       "stateText                      0\n",
       "dtype: int64"
      ]
     },
     "execution_count": 10,
     "metadata": {},
     "output_type": "execute_result"
    }
   ],
   "source": [
    "df.isnull().sum()"
   ]
  },
  {
   "cell_type": "code",
   "execution_count": 11,
   "metadata": {},
   "outputs": [
    {
     "data": {
      "image/png": "[encoded data removed]",
      "text/plain": [
       "<Figure size 720x576 with 1 Axes>"
      ]
     },
     "metadata": {},
     "output_type": "display_data"
    }
   ],
   "source": [
    "df.isna().sum().plot(kind=\"bar\",figsize=(10, 8))\n",
    "plt.title(\"no of null values in train data\")\n",
    "plt.show()\n",
    "\n"
   ]
  },
  {
   "cell_type": "markdown",
   "metadata": {},
   "source": [
    "#### Imputing missing values\n",
    "* drop col **user_description** due to having more that 70\\% missing values\n",
    "* col **title** only has two missing values so we remove these two rows\n",
    "* imputing categorical features & numerical values with more frequency values in feature\n",
    "* imputing text features with constant text **nothing**"
   ]
  },
  {
   "cell_type": "code",
   "execution_count": 12,
   "metadata": {},
   "outputs": [],
   "source": [
    "df.drop(['user_description'], axis=1, inplace=True)\n",
    "\n",
    "imp = SimpleImputer(missing_values=np.nan, strategy='most_frequent')\n",
    "df[\"serviceId\"] = imp.fit_transform(df[[\"serviceId\"]])\n",
    "df[\"service_based_form\"] = imp.fit_transform(df[[\"service_based_form\"]])\n",
    "df[\"target_date\"] = imp.fit_transform(df[[\"target_date\"]])\n",
    "df[\"reissuedCopyOf\"] = imp.fit_transform(df[[\"reissuedCopyOf\"]])\n",
    "df[\"tradeClassificationType\"] = imp.fit_transform(df[[\"tradeClassificationType\"]])\n",
    "df[\"state\"] = imp.fit_transform(df[[\"state\"]])\n",
    "df[\"stateText\"] = imp.fit_transform(df[[\"stateText\"]])\n",
    "\n",
    "imp = SimpleImputer(missing_values=np.nan, strategy='constant', fill_value=\"nothing\")\n",
    "df[\"description\"] = imp.fit_transform(df[[\"description\"]])\n"
   ]
  },
  {
   "cell_type": "code",
   "execution_count": 13,
   "metadata": {},
   "outputs": [
    {
     "name": "stdout",
     "output_type": "stream",
     "text": [
      "Rows & Columns before remove nan value rows:  (25770, 9)\n",
      "Rows & Columns before remove nan value rows:  (25768, 9)\n"
     ]
    }
   ],
   "source": [
    "# Check how our final data frame looks\n",
    "print(\"Rows & Columns before remove nan value rows: \", df.shape)\n",
    "df.dropna(inplace=True)\n",
    "# Check how our final data frame looks\n",
    "print(\"Rows & Columns before remove nan value rows: \", df.shape)"
   ]
  },
  {
   "cell_type": "code",
   "execution_count": 14,
   "metadata": {},
   "outputs": [
    {
     "data": {
      "text/html": [
       "<div>\n",
       "<style scoped>\n",
       "    .dataframe tbody tr th:only-of-type {\n",
       "        vertical-align: middle;\n",
       "    }\n",
       "\n",
       "    .dataframe tbody tr th {\n",
       "        vertical-align: top;\n",
       "    }\n",
       "\n",
       "    .dataframe thead th {\n",
       "        text-align: right;\n",
       "    }\n",
       "</style>\n",
       "<table border=\"1\" class=\"dataframe\">\n",
       "  <thead>\n",
       "    <tr style=\"text-align: right;\">\n",
       "      <th></th>\n",
       "      <th>title</th>\n",
       "      <th>description</th>\n",
       "      <th>serviceId</th>\n",
       "      <th>service_based_form</th>\n",
       "      <th>target_date</th>\n",
       "      <th>reissuedCopyOf</th>\n",
       "      <th>tradeClassificationType</th>\n",
       "      <th>state</th>\n",
       "      <th>stateText</th>\n",
       "    </tr>\n",
       "  </thead>\n",
       "  <tbody>\n",
       "    <tr>\n",
       "      <th>25767</th>\n",
       "      <td>Glaswand f√ºr Dusche ohne Haltestange</td>\n",
       "      <td>Ich h√§tte gerne eine Glaswand 1 m breit und ...</td>\n",
       "      <td>160</td>\n",
       "      <td>1</td>\n",
       "      <td>6</td>\n",
       "      <td>0</td>\n",
       "      <td>2</td>\n",
       "      <td>0</td>\n",
       "      <td>3</td>\n",
       "    </tr>\n",
       "    <tr>\n",
       "      <th>25768</th>\n",
       "      <td>Birken f√§llen in 14621 Sch√∂nwalde-Glien</td>\n",
       "      <td>Teilaufgaben: Baum f√§llen Anzahl B√§ume: +5 A...</td>\n",
       "      <td>44</td>\n",
       "      <td>1</td>\n",
       "      <td>162</td>\n",
       "      <td>0</td>\n",
       "      <td>3</td>\n",
       "      <td>0</td>\n",
       "      <td>3</td>\n",
       "    </tr>\n",
       "    <tr>\n",
       "      <th>25769</th>\n",
       "      <td>80 m¬≤ PVC-Boden verlegen + Material vorhanden...</td>\n",
       "      <td>Teilaufgaben: PVC-Boden verlegen Geb√§udeart: ...</td>\n",
       "      <td>103</td>\n",
       "      <td>1</td>\n",
       "      <td>28</td>\n",
       "      <td>0</td>\n",
       "      <td>2</td>\n",
       "      <td>0</td>\n",
       "      <td>3</td>\n",
       "    </tr>\n",
       "  </tbody>\n",
       "</table>\n",
       "</div>"
      ],
      "text/plain": [
       "                                                   title  \\\n",
       "25767              Glaswand f√ºr Dusche ohne Haltestange   \n",
       "25768          Birken f√§llen in 14621 Sch√∂nwalde-Glien   \n",
       "25769  80 m¬≤ PVC-Boden verlegen + Material vorhanden...   \n",
       "\n",
       "                                             description  serviceId  \\\n",
       "25767   Ich h√§tte gerne eine Glaswand 1 m breit und ...        160   \n",
       "25768  Teilaufgaben: Baum f√§llen Anzahl B√§ume: +5 A...         44   \n",
       "25769  Teilaufgaben: PVC-Boden verlegen Geb√§udeart: ...        103   \n",
       "\n",
       "       service_based_form  target_date  reissuedCopyOf  \\\n",
       "25767                   1            6               0   \n",
       "25768                   1          162               0   \n",
       "25769                   1           28               0   \n",
       "\n",
       "       tradeClassificationType  state  stateText  \n",
       "25767                        2      0          3  \n",
       "25768                        3      0          3  \n",
       "25769                        2      0          3  "
      ]
     },
     "execution_count": 14,
     "metadata": {},
     "output_type": "execute_result"
    }
   ],
   "source": [
    "# check the data\n",
    "df.tail(3)\n",
    "#df_test.shape"
   ]
  },
  {
   "cell_type": "markdown",
   "metadata": {},
   "source": [
    "#### 4- **Checking for outliers in data**"
   ]
  },
  {
   "cell_type": "code",
   "execution_count": 15,
   "metadata": {},
   "outputs": [
    {
     "data": {
      "text/plain": [
       "<AxesSubplot:>"
      ]
     },
     "execution_count": 15,
     "metadata": {},
     "output_type": "execute_result"
    },
    {
     "data": {
      "image/png": "[encoded data removed]",
      "text/plain": [
       "<Figure size 1296x576 with 1 Axes>"
      ]
     },
     "metadata": {},
     "output_type": "display_data"
    }
   ],
   "source": [
    "df.plot(x = 'serviceId', kind = 'box',figsize=(18, 8))"
   ]
  },
  {
   "cell_type": "markdown",
   "metadata": {},
   "source": [
    "From box-plot it is clear we have outliers in serveral features. We need to remove these outliers as it affect the accuracy of the result. \n",
    "\n",
    "**Removing outliers from all columens in Data**"
   ]
  },
  {
   "cell_type": "code",
   "execution_count": 16,
   "metadata": {},
   "outputs": [],
   "source": [
    "from scipy import stats\n",
    "\n",
    "def drop_numerical_outliers(df, z_thresh=3):\n",
    "    # Constrains will contain `True` or `False` depending on if it is a value below the threshold.\n",
    "    constrains = df.select_dtypes(include=[np.number]).apply(lambda x: np.abs(stats.zscore(x)) < z_thresh).all(axis=1)\n",
    "   # Drop (inplace) values set to be rejected\n",
    "    df.drop(df.index[~constrains], inplace=True)\n",
    "drop_numerical_outliers(df)"
   ]
  },
  {
   "cell_type": "markdown",
   "metadata": {},
   "source": [
    "5. **Checking distribution of features**\n",
    "\n",
    "We need to check distribution of the numberical features and remove the one that has "
   ]
  },
  {
   "cell_type": "code",
   "execution_count": 17,
   "metadata": {},
   "outputs": [
    {
     "data": {
      "text/plain": [
       "<Figure size 432x288 with 0 Axes>"
      ]
     },
     "metadata": {},
     "output_type": "display_data"
    },
    {
     "data": {
      "image/png": "[encoded data removed]",
      "text/plain": [
       "<Figure size 432x288 with 1 Axes>"
      ]
     },
     "metadata": {},
     "output_type": "display_data"
    },
    {
     "data": {
      "image/png": "[encoded data removed]",
      "text/plain": [
       "<Figure size 432x288 with 1 Axes>"
      ]
     },
     "metadata": {},
     "output_type": "display_data"
    },
    {
     "data": {
      "image/png": "[encoded data removed]",
      "text/plain": [
       "<Figure size 432x288 with 1 Axes>"
      ]
     },
     "metadata": {},
     "output_type": "display_data"
    },
    {
     "data": {
      "image/png": "[encoded data removed]",
      "text/plain": [
       "<Figure size 432x288 with 1 Axes>"
      ]
     },
     "metadata": {},
     "output_type": "display_data"
    },
    {
     "data": {
      "image/png": "[encoded data removed]",
      "text/plain": [
       "<Figure size 432x288 with 1 Axes>"
      ]
     },
     "metadata": {},
     "output_type": "display_data"
    },
    {
     "data": {
      "image/png": "[encoded data removed]",
      "text/plain": [
       "<Figure size 432x288 with 1 Axes>"
      ]
     },
     "metadata": {},
     "output_type": "display_data"
    }
   ],
   "source": [
    "fig = plt.figure()\n",
    "\n",
    "df.plot.scatter(x = 'service_based_form', y = 'serviceId')\n",
    "\n",
    "\n",
    "df.plot.scatter(x = 'target_date', y = 'serviceId')\n",
    "\n",
    "\n",
    "df.plot.scatter(x = 'reissuedCopyOf', y = 'serviceId')\n",
    "\n",
    "\n",
    "df.plot.scatter(x = 'tradeClassificationType', y = 'serviceId')\n",
    "\n",
    "\n",
    "df.plot.scatter(x = 'state', y = 'serviceId')\n",
    "\n",
    "\n",
    "df.plot.scatter(x = 'stateText', y = 'serviceId')\n",
    "\n",
    "plt.show()"
   ]
  },
  {
   "cell_type": "markdown",
   "metadata": {},
   "source": [
    "From above scatter plot we can see the below features does have a static distirbution, in other words, all of data points just take one value for them. These features cannot help us in classification models so we remove them.\n",
    "\n",
    "* StateTest\n",
    "* State\n",
    "* reissuedCopyOf\n"
   ]
  },
  {
   "cell_type": "markdown",
   "metadata": {},
   "source": [
    "6. **Checking Target feature to know if we have a balanced classification problem**"
   ]
  },
  {
   "cell_type": "code",
   "execution_count": 18,
   "metadata": {},
   "outputs": [
    {
     "data": {
      "image/png": "[encoded data removed]",
      "text/plain": [
       "<Figure size 1296x576 with 1 Axes>"
      ]
     },
     "metadata": {},
     "output_type": "display_data"
    }
   ],
   "source": [
    "pd.value_counts(df['serviceId']).plot.bar(figsize=(18, 8))\n",
    "plt.title('Service Id histogram')\n",
    "plt.xlabel('Serive Id')\n",
    "plt.ylabel('Frequency')\n",
    "df['serviceId'].value_counts()\n",
    "plt.show()"
   ]
  },
  {
   "cell_type": "code",
   "execution_count": 19,
   "metadata": {},
   "outputs": [
    {
     "data": {
      "image/png": "[encoded data removed]",
      "text/plain": [
       "<Figure size 576x432 with 1 Axes>"
      ]
     },
     "metadata": {},
     "output_type": "display_data"
    }
   ],
   "source": [
    "# plot of traget values\n",
    "df['serviceId'] = df['serviceId'].astype(float)\n",
    "fig=plt.figure(figsize=(8,6))\n",
    "his=fig.add_axes([0,0,1,1])\n",
    "plt.hist(df['serviceId'], bins = 250)\n",
    "plt.show()"
   ]
  },
  {
   "cell_type": "markdown",
   "metadata": {},
   "source": [
    "### Challenge:\n",
    "\n",
    "It seems we have an imbalanced classification problem. As it is clear in above plot, some classes have much more number of data than others. In other words, the distribution of examples across the classes is not equal.\n",
    "\n",
    "**Proposed solution**\n",
    "\n",
    "We over-sampling data to have more data points for miniority classes.\n"
   ]
  },
  {
   "cell_type": "code",
   "execution_count": 20,
   "metadata": {},
   "outputs": [],
   "source": [
    "from imblearn.over_sampling import RandomOverSampler\n",
    "# define dataset\n",
    "X = df[['service_based_form', 'target_date','tradeClassificationType','title']].values\n",
    "y = df['serviceId']\n",
    "\n",
    "oversample = RandomOverSampler(sampling_strategy='minority')\n",
    "# fit and apply the transform\n",
    "X_over, y_over = oversample.fit_resample(X, y)"
   ]
  },
  {
   "cell_type": "code",
   "execution_count": 21,
   "metadata": {},
   "outputs": [
    {
     "data": {
      "text/html": [
       "<div>\n",
       "<style scoped>\n",
       "    .dataframe tbody tr th:only-of-type {\n",
       "        vertical-align: middle;\n",
       "    }\n",
       "\n",
       "    .dataframe tbody tr th {\n",
       "        vertical-align: top;\n",
       "    }\n",
       "\n",
       "    .dataframe thead th {\n",
       "        text-align: right;\n",
       "    }\n",
       "</style>\n",
       "<table border=\"1\" class=\"dataframe\">\n",
       "  <thead>\n",
       "    <tr style=\"text-align: right;\">\n",
       "      <th></th>\n",
       "      <th>service_based_form</th>\n",
       "      <th>target_date</th>\n",
       "      <th>tradeClassificationType</th>\n",
       "      <th>title</th>\n",
       "      <th>serviceId</th>\n",
       "    </tr>\n",
       "  </thead>\n",
       "  <tbody>\n",
       "    <tr>\n",
       "      <th>0</th>\n",
       "      <td>1</td>\n",
       "      <td>4</td>\n",
       "      <td>1</td>\n",
       "      <td>Badsanierung 39291 Lostau</td>\n",
       "      <td>138</td>\n",
       "    </tr>\n",
       "    <tr>\n",
       "      <th>1</th>\n",
       "      <td>1</td>\n",
       "      <td>162</td>\n",
       "      <td>3</td>\n",
       "      <td>4 m¬≤ Privatfl√§che pflastern, Unterbau erstel...</td>\n",
       "      <td>26</td>\n",
       "    </tr>\n",
       "    <tr>\n",
       "      <th>2</th>\n",
       "      <td>0</td>\n",
       "      <td>162</td>\n",
       "      <td>2</td>\n",
       "      <td>Dusche nachr√ºsten, Heizk√∂rper tauschen, Wass...</td>\n",
       "      <td>139</td>\n",
       "    </tr>\n",
       "  </tbody>\n",
       "</table>\n",
       "</div>"
      ],
      "text/plain": [
       "  service_based_form target_date tradeClassificationType  \\\n",
       "0                  1           4                       1   \n",
       "1                  1         162                       3   \n",
       "2                  0         162                       2   \n",
       "\n",
       "                                               title serviceId  \n",
       "0                          Badsanierung 39291 Lostau       138  \n",
       "1  4 m¬≤ Privatfl√§che pflastern, Unterbau erstel...        26  \n",
       "2  Dusche nachr√ºsten, Heizk√∂rper tauschen, Wass...       139  "
      ]
     },
     "execution_count": 21,
     "metadata": {},
     "output_type": "execute_result"
    }
   ],
   "source": [
    "df_over = pd.DataFrame(data=np.column_stack((X_over,y_over)),columns=['service_based_form','target_date','tradeClassificationType','title','serviceId'])\n",
    "df_over.head(3)"
   ]
  },
  {
   "cell_type": "markdown",
   "metadata": {},
   "source": [
    "7. **Cleaning textual features**"
   ]
  },
  {
   "cell_type": "markdown",
   "metadata": {},
   "source": [
    "#### Cleaning text (nlp) features\n",
    "* **Remove all irrelevant characters such as any non alphanumeric characters**\n",
    "* **Tokenize your text by separating it into individual words**\n",
    "* **Remove stop words- stopwords are those german words which do not add much meaning to a sentence.They are very commonly used words and we do not required those words. So we can remove those stopwords**"
   ]
  },
  {
   "cell_type": "code",
   "execution_count": 22,
   "metadata": {},
   "outputs": [
    {
     "data": {
      "text/html": [
       "<div>\n",
       "<style scoped>\n",
       "    .dataframe tbody tr th:only-of-type {\n",
       "        vertical-align: middle;\n",
       "    }\n",
       "\n",
       "    .dataframe tbody tr th {\n",
       "        vertical-align: top;\n",
       "    }\n",
       "\n",
       "    .dataframe thead th {\n",
       "        text-align: right;\n",
       "    }\n",
       "</style>\n",
       "<table border=\"1\" class=\"dataframe\">\n",
       "  <thead>\n",
       "    <tr style=\"text-align: right;\">\n",
       "      <th></th>\n",
       "      <th>service_based_form</th>\n",
       "      <th>target_date</th>\n",
       "      <th>tradeClassificationType</th>\n",
       "      <th>title</th>\n",
       "      <th>serviceId</th>\n",
       "    </tr>\n",
       "  </thead>\n",
       "  <tbody>\n",
       "    <tr>\n",
       "      <th>0</th>\n",
       "      <td>1</td>\n",
       "      <td>4</td>\n",
       "      <td>1</td>\n",
       "      <td>Badsanierung  Lostau</td>\n",
       "      <td>138</td>\n",
       "    </tr>\n",
       "    <tr>\n",
       "      <th>1</th>\n",
       "      <td>1</td>\n",
       "      <td>162</td>\n",
       "      <td>3</td>\n",
       "      <td>m Privatflche pflastern Unterbau erstellen Ma...</td>\n",
       "      <td>26</td>\n",
       "    </tr>\n",
       "    <tr>\n",
       "      <th>2</th>\n",
       "      <td>0</td>\n",
       "      <td>162</td>\n",
       "      <td>2</td>\n",
       "      <td>Dusche nachrsten Heizkrper tauschen WasserAbwa...</td>\n",
       "      <td>139</td>\n",
       "    </tr>\n",
       "  </tbody>\n",
       "</table>\n",
       "</div>"
      ],
      "text/plain": [
       "  service_based_form target_date tradeClassificationType  \\\n",
       "0                  1           4                       1   \n",
       "1                  1         162                       3   \n",
       "2                  0         162                       2   \n",
       "\n",
       "                                               title serviceId  \n",
       "0                               Badsanierung  Lostau       138  \n",
       "1   m Privatflche pflastern Unterbau erstellen Ma...        26  \n",
       "2  Dusche nachrsten Heizkrper tauschen WasserAbwa...       139  "
      ]
     },
     "execution_count": 22,
     "metadata": {},
     "output_type": "execute_result"
    }
   ],
   "source": [
    "# Remove irrelevant characters\n",
    "\n",
    "df_over['title'] = df_over['title'].astype('str')\n",
    "#df_over['description'] = df_over['description'].astype('str')\n",
    "remove_characters = [\"->\", \"≤\", \"¬\" ,\"¥\" ,\"  \",\"º\", \"√\",\"§\", \"¬≤\", \"∂\", \"(\" ,')', '*', '+','[', '?', '<','>','/','-',',','.',':','1','2','3','4','5','6','7','8','9','0']\n",
    "for chr in remove_characters:\n",
    "    \n",
    "    #df_over.description = df_over.description.str.replace(chr, '', regex=True)\n",
    "    df_over.title = df_over.title.str.replace(chr, '', regex=True)\n",
    "\n",
    "# check the data\n",
    "df_over.head(3)\n",
    "#df_test.shape"
   ]
  },
  {
   "cell_type": "code",
   "execution_count": 23,
   "metadata": {},
   "outputs": [
    {
     "data": {
      "text/html": [
       "<div>\n",
       "<style scoped>\n",
       "    .dataframe tbody tr th:only-of-type {\n",
       "        vertical-align: middle;\n",
       "    }\n",
       "\n",
       "    .dataframe tbody tr th {\n",
       "        vertical-align: top;\n",
       "    }\n",
       "\n",
       "    .dataframe thead th {\n",
       "        text-align: right;\n",
       "    }\n",
       "</style>\n",
       "<table border=\"1\" class=\"dataframe\">\n",
       "  <thead>\n",
       "    <tr style=\"text-align: right;\">\n",
       "      <th></th>\n",
       "      <th>service_based_form</th>\n",
       "      <th>target_date</th>\n",
       "      <th>tradeClassificationType</th>\n",
       "      <th>title</th>\n",
       "      <th>serviceId</th>\n",
       "    </tr>\n",
       "  </thead>\n",
       "  <tbody>\n",
       "    <tr>\n",
       "      <th>0</th>\n",
       "      <td>1</td>\n",
       "      <td>4</td>\n",
       "      <td>1</td>\n",
       "      <td>[Badsanierung, Lostau]</td>\n",
       "      <td>138</td>\n",
       "    </tr>\n",
       "    <tr>\n",
       "      <th>1</th>\n",
       "      <td>1</td>\n",
       "      <td>162</td>\n",
       "      <td>3</td>\n",
       "      <td>[m, Privatflche, pflastern, Unterbau, erstelle...</td>\n",
       "      <td>26</td>\n",
       "    </tr>\n",
       "    <tr>\n",
       "      <th>2</th>\n",
       "      <td>0</td>\n",
       "      <td>162</td>\n",
       "      <td>2</td>\n",
       "      <td>[Dusche, nachrsten, Heizkrper, tauschen, Wasse...</td>\n",
       "      <td>139</td>\n",
       "    </tr>\n",
       "  </tbody>\n",
       "</table>\n",
       "</div>"
      ],
      "text/plain": [
       "  service_based_form target_date tradeClassificationType  \\\n",
       "0                  1           4                       1   \n",
       "1                  1         162                       3   \n",
       "2                  0         162                       2   \n",
       "\n",
       "                                               title serviceId  \n",
       "0                             [Badsanierung, Lostau]       138  \n",
       "1  [m, Privatflche, pflastern, Unterbau, erstelle...        26  \n",
       "2  [Dusche, nachrsten, Heizkrper, tauschen, Wasse...       139  "
      ]
     },
     "execution_count": 23,
     "metadata": {},
     "output_type": "execute_result"
    }
   ],
   "source": [
    "# Tokenize the text\n",
    "tokenizer=nltk.tokenize.RegexpTokenizer(r'\\w+')\n",
    "\n",
    "#df_over['description'] = df_over['description'].apply(lambda x:tokenizer.tokenize(x))\n",
    "df_over['title'] = df_over['title'].apply(lambda x:tokenizer.tokenize(x))\n",
    "\n",
    "# check the data\n",
    "df_over.head(3)\n",
    "#df_test.shape"
   ]
  },
  {
   "cell_type": "code",
   "execution_count": 24,
   "metadata": {},
   "outputs": [
    {
     "data": {
      "text/plain": [
       "232"
      ]
     },
     "execution_count": 24,
     "metadata": {},
     "output_type": "execute_result"
    }
   ],
   "source": [
    "len(stopwords.words('german'))\n"
   ]
  },
  {
   "cell_type": "code",
   "execution_count": 25,
   "metadata": {},
   "outputs": [
    {
     "data": {
      "text/html": [
       "<div>\n",
       "<style scoped>\n",
       "    .dataframe tbody tr th:only-of-type {\n",
       "        vertical-align: middle;\n",
       "    }\n",
       "\n",
       "    .dataframe tbody tr th {\n",
       "        vertical-align: top;\n",
       "    }\n",
       "\n",
       "    .dataframe thead th {\n",
       "        text-align: right;\n",
       "    }\n",
       "</style>\n",
       "<table border=\"1\" class=\"dataframe\">\n",
       "  <thead>\n",
       "    <tr style=\"text-align: right;\">\n",
       "      <th></th>\n",
       "      <th>service_based_form</th>\n",
       "      <th>target_date</th>\n",
       "      <th>tradeClassificationType</th>\n",
       "      <th>title</th>\n",
       "      <th>serviceId</th>\n",
       "    </tr>\n",
       "  </thead>\n",
       "  <tbody>\n",
       "    <tr>\n",
       "      <th>0</th>\n",
       "      <td>1</td>\n",
       "      <td>4</td>\n",
       "      <td>1</td>\n",
       "      <td>[Badsanierung, Lostau]</td>\n",
       "      <td>138</td>\n",
       "    </tr>\n",
       "    <tr>\n",
       "      <th>1</th>\n",
       "      <td>1</td>\n",
       "      <td>162</td>\n",
       "      <td>3</td>\n",
       "      <td>[m, Privatflche, pflastern, Unterbau, erstelle...</td>\n",
       "      <td>26</td>\n",
       "    </tr>\n",
       "    <tr>\n",
       "      <th>2</th>\n",
       "      <td>0</td>\n",
       "      <td>162</td>\n",
       "      <td>2</td>\n",
       "      <td>[Dusche, nachrsten, Heizkrper, tauschen, Wasse...</td>\n",
       "      <td>139</td>\n",
       "    </tr>\n",
       "  </tbody>\n",
       "</table>\n",
       "</div>"
      ],
      "text/plain": [
       "  service_based_form target_date tradeClassificationType  \\\n",
       "0                  1           4                       1   \n",
       "1                  1         162                       3   \n",
       "2                  0         162                       2   \n",
       "\n",
       "                                               title serviceId  \n",
       "0                             [Badsanierung, Lostau]       138  \n",
       "1  [m, Privatflche, pflastern, Unterbau, erstelle...        26  \n",
       "2  [Dusche, nachrsten, Heizkrper, tauschen, Wasse...       139  "
      ]
     },
     "execution_count": 25,
     "metadata": {},
     "output_type": "execute_result"
    }
   ],
   "source": [
    "#Remove stop words\n",
    "def remove_stopwords(text):\n",
    "    words = [w for w in text if w not in stopwords.words('german')]\n",
    "    return words\n",
    "df_over['title'] = df_over['title'].apply(lambda x : remove_stopwords(x))\n",
    "#df['description'] = df['description'].apply(lambda x : remove_stopwords(x))\n",
    "\n",
    "# check the data\n",
    "df_over.head(3)\n",
    "#df_test.shape"
   ]
  },
  {
   "cell_type": "code",
   "execution_count": 26,
   "metadata": {},
   "outputs": [
    {
     "data": {
      "text/html": [
       "<div>\n",
       "<style scoped>\n",
       "    .dataframe tbody tr th:only-of-type {\n",
       "        vertical-align: middle;\n",
       "    }\n",
       "\n",
       "    .dataframe tbody tr th {\n",
       "        vertical-align: top;\n",
       "    }\n",
       "\n",
       "    .dataframe thead th {\n",
       "        text-align: right;\n",
       "    }\n",
       "</style>\n",
       "<table border=\"1\" class=\"dataframe\">\n",
       "  <thead>\n",
       "    <tr style=\"text-align: right;\">\n",
       "      <th></th>\n",
       "      <th>service_based_form</th>\n",
       "      <th>target_date</th>\n",
       "      <th>tradeClassificationType</th>\n",
       "      <th>title</th>\n",
       "      <th>serviceId</th>\n",
       "    </tr>\n",
       "  </thead>\n",
       "  <tbody>\n",
       "    <tr>\n",
       "      <th>0</th>\n",
       "      <td>1</td>\n",
       "      <td>4</td>\n",
       "      <td>1</td>\n",
       "      <td>Badsanierung Lostau</td>\n",
       "      <td>138</td>\n",
       "    </tr>\n",
       "    <tr>\n",
       "      <th>1</th>\n",
       "      <td>1</td>\n",
       "      <td>162</td>\n",
       "      <td>3</td>\n",
       "      <td>m Privatflche pflastern Unterbau erstellen Mat...</td>\n",
       "      <td>26</td>\n",
       "    </tr>\n",
       "    <tr>\n",
       "      <th>2</th>\n",
       "      <td>0</td>\n",
       "      <td>162</td>\n",
       "      <td>2</td>\n",
       "      <td>Dusche nachrsten Heizkrper tauschen WasserAbwa...</td>\n",
       "      <td>139</td>\n",
       "    </tr>\n",
       "  </tbody>\n",
       "</table>\n",
       "</div>"
      ],
      "text/plain": [
       "  service_based_form target_date tradeClassificationType  \\\n",
       "0                  1           4                       1   \n",
       "1                  1         162                       3   \n",
       "2                  0         162                       2   \n",
       "\n",
       "                                               title serviceId  \n",
       "0                                Badsanierung Lostau       138  \n",
       "1  m Privatflche pflastern Unterbau erstellen Mat...        26  \n",
       "2  Dusche nachrsten Heizkrper tauschen WasserAbwa...       139  "
      ]
     },
     "execution_count": 26,
     "metadata": {},
     "output_type": "execute_result"
    }
   ],
   "source": [
    "def combine_text(list_of_text):\n",
    "    '''Takes a list of text and combines them into one large chunk of text.'''\n",
    "    combined_text = ' '.join(list_of_text)\n",
    "    return combined_text\n",
    "\n",
    "df_over['title'] = df_over['title'].apply(lambda x : combine_text(x))\n",
    "#df_over['description'] = df_over['description'].apply(lambda x : combine_text(x))\n",
    "\n",
    "\n",
    "# check the data\n",
    "df_over.head(3)\n",
    "#df_test.shape"
   ]
  },
  {
   "cell_type": "markdown",
   "metadata": {},
   "source": [
    "### Choose the model\n",
    "\n",
    "Here we have a mixture of numerical and text features. We would like to use the information in both of them. In other words, we have a Multi-Data-Type Classification including both numerical and textual information. We suggest two models for implementing the classification:\n",
    "\n",
    " **Multi-Date Type classification with Keras**\n",
    "<p style='text-align: justify;'>\n",
    "Creating a deep learning model in Keras that is capable of accepting multiple inputs, concatenating the two outputs and then performing classification using the aggregated input.\n",
    "  \n",
    "In this model, we created two submodeles. The first submodel will accept textual input from \"title\" features (to avoid complexity, we do not consider other textual features) in the form of text data. This submodel will consist of an input shape layer, an embedding layer, and an LSTM layer of 300 neurons. The second submodel will accept input in the form of meta information from the numerical columns. The second submodel also consist of three layers. An input layer and two dense layers.\n",
    "\n",
    "The output from the LSTM layers of the first submodel and the output from the dense layer of the second submodel will be concatenated together and will be used as concatenated input to another dense layer with 10 neurons. Finally, the output dense layer will have 250 neuorns corresponding to each serviceId. </p>\n",
    "  \n",
    " \n"
   ]
  },
  {
   "cell_type": "code",
   "execution_count": 56,
   "metadata": {},
   "outputs": [],
   "source": [
    "X = df_over.drop(['serviceId'], axis=1)\n",
    "\n",
    "y = df_over['serviceId']\n",
    "\n",
    "X_train, X_test, y_train, y_test = train_test_split(X, y, test_size=0.20, random_state=42)"
   ]
  },
  {
   "cell_type": "code",
   "execution_count": 57,
   "metadata": {},
   "outputs": [],
   "source": [
    "X1_train = []\n",
    "sentences = list(X_train[\"title\"])\n",
    "for sen in sentences:\n",
    "    X1_train.append(sen)\n",
    "\n",
    "X1_test = []\n",
    "sentences = list(X_test[\"title\"])\n",
    "for sen in sentences:\n",
    "    X1_test.append(sen)\n",
    " "
   ]
  },
  {
   "cell_type": "code",
   "execution_count": 58,
   "metadata": {},
   "outputs": [],
   "source": [
    "tokenizer = Tokenizer()\n",
    "tokenizer.fit_on_texts(X1_train)\n",
    "\n",
    "X1_train = tokenizer.texts_to_sequences(X1_train)\n",
    "X1_test = tokenizer.texts_to_sequences(X1_test)\n",
    "\n",
    "\n",
    "vocab_size = len(tokenizer.word_index) + 1\n",
    "\n",
    "maxlen = 200\n",
    "\n",
    "X1_train = pad_sequences(X1_train, padding='post', maxlen=maxlen)\n",
    "X1_test = pad_sequences(X1_test, padding='post', maxlen=maxlen)\n"
   ]
  },
  {
   "cell_type": "code",
   "execution_count": 30,
   "metadata": {},
   "outputs": [],
   "source": [
    "embeddings_dictionary = dict()\n",
    "\n",
    "glove_file = open('glove.txt', encoding=\"utf8\")\n",
    "\n",
    "for line in glove_file:\n",
    "    records = line.split()\n",
    "    word = records[0]\n",
    "    vector_dimensions = asarray(records[1:], dtype='float32')\n",
    "    embeddings_dictionary[word] = vector_dimensions\n",
    "\n",
    "glove_file.close()\n",
    "\n",
    "embedding_matrix = zeros((vocab_size, 300))\n",
    "for word, index in tokenizer.word_index.items():\n",
    "    embedding_vector = embeddings_dictionary.get(word)\n",
    "    if embedding_vector is not None:\n",
    "        embedding_matrix[index] = embedding_vector"
   ]
  },
  {
   "cell_type": "code",
   "execution_count": 59,
   "metadata": {},
   "outputs": [],
   "source": [
    "X2_train = X_train[[ 'service_based_form', 'target_date','tradeClassificationType']].values\n",
    "X2_test = X_test[['service_based_form', 'target_date','tradeClassificationType']].values\n"
   ]
  },
  {
   "cell_type": "code",
   "execution_count": 60,
   "metadata": {},
   "outputs": [],
   "source": [
    "X2_train = X2_train.astype(int)\n",
    "X2_test = X2_train.astype(int)\n",
    "y_train = y_train.astype(int)\n",
    "y_test = y_test.astype(int)\n",
    "\n"
   ]
  },
  {
   "cell_type": "markdown",
   "metadata": {},
   "source": [
    "**Feature scaling**\n",
    "\n",
    "As our numerical features have different scales, we need ot standardize them into the fixed range."
   ]
  },
  {
   "cell_type": "code",
   "execution_count": 33,
   "metadata": {},
   "outputs": [],
   "source": [
    "scaler = StandardScaler()\n",
    "X2_train = scaler.fit_transform(X2_train)\n",
    "X2_test = scaler.fit_transform(X2_test) \n"
   ]
  },
  {
   "cell_type": "code",
   "execution_count": 34,
   "metadata": {},
   "outputs": [],
   "source": [
    "input_1 = Input(shape=(maxlen,))\n",
    "\n",
    "\n",
    "input_2 = Input(shape=(3,))"
   ]
  },
  {
   "cell_type": "code",
   "execution_count": 35,
   "metadata": {},
   "outputs": [],
   "source": [
    "embedding_layer = Embedding(vocab_size, 300, weights=[embedding_matrix], trainable=False)(input_1)\n",
    "\n",
    "LSTM_Layer_1 = LSTM(300)(embedding_layer)\n",
    "\n",
    "\n",
    "dense_layer_1 = Dense(300, activation='relu')(input_2)\n",
    "dense_layer_2 = Dense(300, activation='relu')(dense_layer_1)\n",
    "\n",
    "concat_layer = Concatenate()([LSTM_Layer_1, dense_layer_2])\n",
    "dense_layer_3 = Dense(300, activation='relu')(concat_layer)\n",
    "output = Dense(250, activation='softmax')(dense_layer_3)\n",
    "model = Model(inputs=[input_1, input_2], outputs=output)\n",
    "\n",
    "\n",
    "model.compile(loss = 'sparse_categorical_crossentropy', optimizer = 'adam',  metrics=['acc'])\n"
   ]
  },
  {
   "cell_type": "code",
   "execution_count": 64,
   "metadata": {},
   "outputs": [
    {
     "name": "stdout",
     "output_type": "stream",
     "text": [
      "Epoch 1/10\n",
      "133/133 [==============================] - 399s 3s/step - loss: 8.1389 - acc: 0.0818 - val_loss: 4.3249 - val_acc: 0.0939\n",
      "Epoch 2/10\n",
      "133/133 [==============================] - 412s 3s/step - loss: 3.9492 - acc: 0.1204 - val_loss: 3.8482 - val_acc: 0.1396\n",
      "Epoch 3/10\n",
      "133/133 [==============================] - 417s 3s/step - loss: 3.7931 - acc: 0.1281 - val_loss: 3.9206 - val_acc: 0.1318\n",
      "Epoch 4/10\n",
      "133/133 [==============================] - 407s 3s/step - loss: 3.8169 - acc: 0.1274 - val_loss: 3.8008 - val_acc: 0.1389\n",
      "Epoch 5/10\n",
      "133/133 [==============================] - 412s 3s/step - loss: 3.7630 - acc: 0.1295 - val_loss: 3.8154 - val_acc: 0.1313\n",
      "Epoch 6/10\n",
      "133/133 [==============================] - 406s 3s/step - loss: 3.7527 - acc: 0.1310 - val_loss: 3.7936 - val_acc: 0.1389\n",
      "Epoch 7/10\n",
      "133/133 [==============================] - 405s 3s/step - loss: 3.7439 - acc: 0.1302 - val_loss: 3.7783 - val_acc: 0.1372\n",
      "Epoch 8/10\n",
      "133/133 [==============================] - 406s 3s/step - loss: 3.7378 - acc: 0.1313 - val_loss: 3.7754 - val_acc: 0.1398\n",
      "Epoch 9/10\n",
      "133/133 [==============================] - 399s 3s/step - loss: 3.7340 - acc: 0.1295 - val_loss: 3.7860 - val_acc: 0.1330\n",
      "Epoch 10/10\n",
      "133/133 [==============================] - 405s 3s/step - loss: 3.7307 - acc: 0.1294 - val_loss: 3.7698 - val_acc: 0.1315\n"
     ]
    }
   ],
   "source": [
    "history = model.fit(x=[X1_train, X2_train], y=y_train, batch_size=128, epochs=10, verbose=1, validation_split=0.2)\n"
   ]
  },
  {
   "cell_type": "markdown",
   "metadata": {},
   "source": [
    "### Make the prediction"
   ]
  },
  {
   "cell_type": "code",
   "execution_count": 66,
   "metadata": {},
   "outputs": [
    {
     "data": {
      "image/png": "[encoded data removed]",
      "text/plain": [
       "<Figure size 432x288 with 1 Axes>"
      ]
     },
     "metadata": {},
     "output_type": "display_data"
    },
    {
     "data": {
      "image/png": "[encoded data removed]",
      "text/plain": [
       "<Figure size 432x288 with 1 Axes>"
      ]
     },
     "metadata": {},
     "output_type": "display_data"
    }
   ],
   "source": [
    "import matplotlib.pyplot as plt\n",
    "\n",
    "plt.plot(history.history['acc'])\n",
    "plt.plot(history.history['val_acc'])\n",
    "\n",
    "plt.title('model accuracy')\n",
    "plt.ylabel('accuracy')\n",
    "plt.xlabel('epoch')\n",
    "plt.legend(['train','test'], loc='upper left')\n",
    "plt.show()\n",
    "\n",
    "plt.plot(history.history['loss'])\n",
    "plt.plot(history.history['val_loss'])\n",
    "\n",
    "plt.title('model loss')\n",
    "plt.ylabel('loss')\n",
    "plt.xlabel('epoch')\n",
    "plt.legend(['train','test'], loc='upper left')\n",
    "plt.show()"
   ]
  },
  {
   "cell_type": "markdown",
   "metadata": {},
   "source": [
    "## Summarising Results \n"
   ]
  },
  {
   "cell_type": "markdown",
   "metadata": {},
   "source": [
    "We do not get the good accuracy in prediction results. There maybe some reasons for it:\n",
    "* For huge complexity, we had to run just for 10 iterations. It is possible that accuracy will be increased as the number of iterations increase.\n",
    "* We just consider one textual feature in generating our model, still there is a probability that with making more complex our network with having other textual features, we can increase the accuracy.\n",
    "* As we have 250 different classes, and we do not have a balanced dataset, make increasing the number of sample data points can help to a better accuracy"
   ]
  }
 ],
 "metadata": {
  "kernelspec": {
   "display_name": "Python 3",
   "language": "python",
   "name": "python3"
  },
  "language_info": {
   "codemirror_mode": {
    "name": "ipython",
    "version": 3
   },
   "file_extension": ".py",
   "mimetype": "text/x-python",
   "name": "python",
   "nbconvert_exporter": "python",
   "pygments_lexer": "ipython3",
   "version": "3.6.9"
  }
 },
 "nbformat": 4,
 "nbformat_minor": 4
}
